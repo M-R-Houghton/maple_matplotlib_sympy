{
 "metadata": {
  "name": "",
  "signature": "sha256:5f5b64e354d6f4802ec730609eaed4e99e104f88b3a3bd6e02420b50d563f243"
 },
 "nbformat": 3,
 "nbformat_minor": 0,
 "worksheets": []
}